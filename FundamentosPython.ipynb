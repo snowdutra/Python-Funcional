{
 "cells": [
  {
   "cell_type": "code",
   "execution_count": 1,
   "metadata": {},
   "outputs": [
    {
     "name": "stdout",
     "output_type": "stream",
     "text": [
      "<class 'int'>\n",
      "<class 'float'>\n",
      "<class 'str'>\n",
      "<class 'list'>\n",
      "<class 'dict'>\n"
     ]
    }
   ],
   "source": [
    "x = 1\n",
    "print(type (x))\n",
    "x = 1.3\n",
    "print(type (x))\n",
    "x = 'a'\n",
    "print(type (x))\n",
    "x = []\n",
    "print(type (x))\n",
    "x = {}\n",
    "print(type (x))"
   ]
  },
  {
   "cell_type": "code",
   "execution_count": 2,
   "metadata": {},
   "outputs": [
    {
     "name": "stdout",
     "output_type": "stream",
     "text": [
      "(1, 5, 'Raquel', 'Guilherme', 3.1415)\n",
      "5\n",
      "Guilherme\n",
      "(1, 5, 'Raquel', 'Guilherme')\n",
      "1\n",
      "Guilherme\n"
     ]
    }
   ],
   "source": [
    "lista =  1, 5, 'Raquel', 'Guilherme', 3.1415\n",
    "print(lista)\n",
    "print(lista[1])\n",
    "print(lista[3])\n",
    "print(lista[0:4])\n",
    "print(lista[0])\n",
    "print(lista[-2])"
   ]
  },
  {
   "cell_type": "code",
   "execution_count": 3,
   "metadata": {},
   "outputs": [
    {
     "name": "stdout",
     "output_type": "stream",
     "text": [
      "Guilherme\n",
      "3.1415\n",
      "['C#, Java', 'Python']\n",
      "Python\n",
      "yth\n",
      "t\n"
     ]
    }
   ],
   "source": [
    "lista =  [1, 5, 'Raquel', 'Guilherme', 3.1415, ['C#, Java', 'Python']]\n",
    "print(lista[3])\n",
    "print(lista[4])\n",
    "print(lista[5])\n",
    "print(lista[5][1])\n",
    "print(lista[5][1][1:4])\n",
    "print(lista[5][1][1:4][1])"
   ]
  },
  {
   "cell_type": "code",
   "execution_count": 4,
   "metadata": {},
   "outputs": [
    {
     "data": {
      "text/plain": [
       "['C#', 'Python']"
      ]
     },
     "execution_count": 4,
     "metadata": {},
     "output_type": "execute_result"
    }
   ],
   "source": [
    "pessoa = {'nome': 'Raquel', 'idade': 25, 'cidade': 'São Paulo', 'Cursos': [\"C#\", \"Python\", \"Java\"]}\n",
    "\n",
    "pessoa['Cursos']\n",
    "pessoa['Cursos'][0:2]\n"
   ]
  },
  {
   "cell_type": "code",
   "execution_count": 5,
   "metadata": {},
   "outputs": [
    {
     "name": "stdout",
     "output_type": "stream",
     "text": [
      "O professor(a) Raquel ministra os seguintes cursos ['C#', 'Python', 'Java']\n",
      "O professor(a) Ana ministra os seguintes cursos ['.Net', 'Python', 'ML', 'CDN']\n",
      "O professor(a) Guilherme ministra os seguintes cursos ['Node', 'Python', 'HDFS']\n"
     ]
    }
   ],
   "source": [
    "lista = []\n",
    "\n",
    "professor = {'nome': 'Raquel', 'idade': 25, 'cidade': 'São Paulo', 'cursos': [\"C#\", \"Python\",\"Java\"]}\n",
    "professor1 = {'nome': 'Guilherme', 'idade': 35, 'cidade': 'São Paulo', 'cursos': [\"Node\", \"Python\",\"HDFS\"]}\n",
    "professor2 = {'nome': 'Ana', 'idade': 28, 'cidade': 'São Paulo', 'cursos': [\".Net\", \"Python\", \"ML\", \"CDN\"]}\n",
    "\n",
    "lista.append(professor)\n",
    "lista.append(professor1)\n",
    "lista.insert(1, professor2)\n",
    "\n",
    "\n",
    "\n",
    "for professor in lista:\n",
    "    nome = professor['nome']\n",
    "    cursos = professor['cursos']\n",
    "    \n",
    "    print(f\"O professor(a) {professor['nome']} ministra os seguintes cursos {professor['cursos']}\")"
   ]
  },
  {
   "cell_type": "code",
   "execution_count": 6,
   "metadata": {},
   "outputs": [
    {
     "name": "stdout",
     "output_type": "stream",
     "text": [
      "O professor(a) Raquel ministra os seguintes cursos:\n",
      "O professor(a) Ana ministra os seguintes cursos:\n",
      "O professor(a) Guilherme ministra os seguintes cursos:\n",
      " - Node\n",
      " - Python\n",
      " - HDFS\n"
     ]
    }
   ],
   "source": [
    "lista = []\n",
    "\n",
    "professor = {'nome': 'Raquel', 'idade': 25, 'cidade': 'São Paulo', 'cursos': [\"C#\", \"Python\",\"Java\"]}\n",
    "professor1 = {'nome': 'Guilherme', 'idade': 35, 'cidade': 'São Paulo', 'cursos': [\"Node\", \"Python\",\"HDFS\"]}\n",
    "professor2 = {'nome': 'Ana', 'idade': 28, 'cidade': 'São Paulo', 'cursos': [\".Net\", \"Python\", \"ML\", \"CDN\"]}\n",
    "\n",
    "lista.append(professor)\n",
    "lista.append(professor1)\n",
    "lista.insert(1, professor2)\n",
    "\n",
    "\n",
    "\n",
    "for professor in lista:\n",
    "    nome = professor['nome']\n",
    "    cursos = professor['cursos']\n",
    "    \n",
    "    print(f\"O professor(a) {nome} ministra os seguintes cursos:\")\n",
    "\n",
    "for curso in cursos:\n",
    "    if curso == \"C#\":\n",
    "        curso = \".Net\"\n",
    "    print(f\" - {curso}\")\n"
   ]
  },
  {
   "cell_type": "code",
   "execution_count": null,
   "metadata": {},
   "outputs": [
    {
     "name": "stdout",
     "output_type": "stream",
     "text": [
      "ainavizuL\n"
     ]
    }
   ],
   "source": [
    "#1 Crie uma variável S6ng e a exiba no sen6do inverso\n",
    "\n",
    "String = \"Gustavo\"\n",
    "print(String[::-1])"
   ]
  },
  {
   "cell_type": "code",
   "execution_count": null,
   "metadata": {},
   "outputs": [
    {
     "name": "stdout",
     "output_type": "stream",
     "text": [
      "A expressão 'py' está presente na frase.\n",
      "A expressão 'ing' está presente na frase.\n",
      "A expressão 'zzz' não está presente na frase.\n"
     ]
    }
   ],
   "source": [
    "''' 2 Verifique se na frase “Python é uma linguagem excelente” existe as expressões:\n",
    "'py’, 'ing’, ‘zzz’  '''\n",
    "\n",
    "frase = \"python é uma linguagem excelente\"\n",
    "expressoes = ['py', 'ing', 'zzz']\n",
    "\n",
    "for expressao in expressoes:\n",
    "    if expressao in frase:\n",
    "        print(f\"A expressão '{expressao}' está presente na frase.\")\n",
    "    else:\n",
    "        print(f\"A expressão '{expressao}' não está presente na frase.\")"
   ]
  },
  {
   "cell_type": "code",
   "execution_count": null,
   "metadata": {},
   "outputs": [
    {
     "name": "stdout",
     "output_type": "stream",
     "text": [
      "O percentual do salário comprometido com as despesas é de 71.18%\n"
     ]
    }
   ],
   "source": [
    "''' 3 Para:\n",
    "salario = 3450.45\n",
    "despesas = 2456.2\n",
    "Caule o percentual do salário comprome6do com as despesas   '''\n",
    "\n",
    "salario = 3450.45\n",
    "despesas = 2456.2\n",
    "\n",
    "percentual = (despesas / salario) * 100\n",
    "\n",
    "print(f\"O percentual do salário comprometido com as despesas é de {percentual:.2f}%\")\n"
   ]
  },
  {
   "cell_type": "code",
   "execution_count": null,
   "metadata": {},
   "outputs": [
    {
     "name": "stdout",
     "output_type": "stream",
     "text": [
      "O resultado da soma de 2.0 e 3.0 é 5.00\n"
     ]
    }
   ],
   "source": [
    "#4 Crie um programa em Python capaz de receber dois número x e y e que imprima na tela o resultado da soma destes números\n",
    "\n",
    "x = float(input(\"Digite o valor de x: \"))\n",
    "y = float(input(\"Digite o valor de y: \"))\n",
    "\n",
    "soma = x + y\n",
    "\n",
    "print(f\"O resultado da soma de {x} e {y} é {soma:.2f}\")\n"
   ]
  },
  {
   "cell_type": "code",
   "execution_count": 23,
   "metadata": {},
   "outputs": [
    {
     "name": "stdout",
     "output_type": "stream",
     "text": [
      "A idade 17 é classificada como: Menor de idade\n",
      "A idade 35 é classificada como: Adulto\n",
      "A idade 87 é classificada como: Melhor idade\n",
      "A idade 113 é classificada como: Centenário\n",
      "A idade -2 é classificada como: Idade inválida\n"
     ]
    }
   ],
   "source": [
    "\"\"\"Faça uma rotina que receba a idade de um pessoa e determine se ela é:\n",
    "Menor de idade (<18)\n",
    "Adulto (entre 18 e 65)\n",
    "Melhor idade (66 e 100)\n",
    "Centenário > 100 \n",
    "-1 (idade inválida)\n",
    "\"\"\"\n",
    "\n",
    "def classificar_idade(idade):\n",
    "    if idade < 0:\n",
    "        return 'Idade inválida'\n",
    "    elif idade < 18:\n",
    "        return \"Menor de idade\"\n",
    "    elif idade < 66:\n",
    "        return \"Adulto\"\n",
    "    elif idade < 101:\n",
    "        return \"Melhor idade\"\n",
    "    else:\n",
    "        return \"Centenário\"\n",
    "    \n",
    "\n",
    "if __name__ == '__main__':\n",
    "    for idade in (17, 35, 87, 113, -2):\n",
    "        print(f\"A idade {idade} é classificada como: {classificar_idade(idade)}\")"
   ]
  },
  {
   "cell_type": "code",
   "execution_count": 11,
   "metadata": {},
   "outputs": [
    {
     "name": "stdout",
     "output_type": "stream",
     "text": [
      "p,a,r,a,l,e,l,e,p,í,p,e,d,o,\n"
     ]
    }
   ],
   "source": [
    "#5 Exiba a palavra 'paralelepípedo’ com suas letras separadas por virgulas -> p,a,r,a,l,e,l,e,p,í,p,e,d,o,\n",
    "\n",
    "palavra = \"paralelepípedo\"\n",
    "for letra in palavra:\n",
    "    print(letra, end=',')\n",
    "print(\"\")"
   ]
  },
  {
   "cell_type": "code",
   "execution_count": 12,
   "metadata": {},
   "outputs": [
    {
     "name": "stdout",
     "output_type": "stream",
     "text": [
      "Danieli\n",
      "André\n",
      "Marcelo\n",
      "Ana Paula\n"
     ]
    }
   ],
   "source": [
    "#6 Exiba cada nome em uma linha diferente -> [Danieli', ‘André', ‘Marcelo', ‘Ana Paula’]    \n",
    "\n",
    "nomes = ['Danieli', 'André', 'Marcelo', 'Ana Paula']\n",
    "for nome in nomes:\n",
    "    print(nome)"
   ]
  },
  {
   "cell_type": "code",
   "execution_count": 24,
   "metadata": {},
   "outputs": [
    {
     "name": "stdout",
     "output_type": "stream",
     "text": [
      "Tente novamente.\n",
      "O número secreto 2 foi encontrado!\n"
     ]
    }
   ],
   "source": [
    "'''7 Sorteie um numero de 0– 9 u6lizando a função randint(0, 9) e solicite ao usuário inserir um numero até o mesmo acertar o valor sorteado\n",
    "randomicamente, ao acertar o valor exiba a frase “Número secreto x foi encontrado!” e pare o processamento.'''\n",
    "\n",
    "from random import randint\n",
    "\n",
    "numero_secreto = randint(0, 9)\n",
    "numero = -1\n",
    "\n",
    "while numero != numero_secreto:\n",
    "    numero = int(input(\"Digite um número: \"))\n",
    "    if numero == numero_secreto:\n",
    "        print(f\"O número secreto {numero_secreto} foi encontrado!\")\n",
    "    else:\n",
    "        print(\"Tente novamente.\")"
   ]
  },
  {
   "cell_type": "code",
   "execution_count": 25,
   "metadata": {},
   "outputs": [
    {
     "name": "stdout",
     "output_type": "stream",
     "text": [
      "[0, 1, 1, 2, 3, 5, 8, 13, 21, 34, 55, 89, 144, 233, 377, 610, 987, 1597, 2584, 4181, 6765, 10946, 17711, 28657, 46368, 75025, 121393, 196418, 317811, 514229, 832040, 1346269, 2178309, 3524578, 5702887, 9227465, 14930352, 24157817, 39088169, 63245986, 102334155, 165580141, 267914296, 433494437, 701408733, 1134903170, 1836311903, 2971215073, 4807526976, 7778742049, 12586269025, 20365011074, 32951280099, 53316291173, 86267571272, 139583862445, 225851433717, 365435296162, 591286729879, 956722026041, 1548008755920, 2504730781961, 4052739537881, 6557470319842, 10610209857723, 17167680177565, 27777890035288, 44945570212853, 72723460248141, 117669030460994, 190392490709135, 308061521170129, 498454011879264, 806515533049393, 1304969544928657, 2111485077978050, 3416454622906707, 5527939700884757, 8944394323791464, 14472334024676221, 23416728348467685, 37889062373143906, 61305790721611591, 99194853094755497, 160500643816367088, 259695496911122585, 420196140727489673, 679891637638612258, 1100087778366101931, 1779979416004714189, 2880067194370816120, 4660046610375530309, 7540113804746346429, 12200160415121876738, 19740274219868223167, 31940434634990099905, 51680708854858323072, 83621143489848422977, 135301852344706746049, 218922995834555169026]\n"
     ]
    }
   ],
   "source": [
    "\n",
    "#8 Receba um número de entrada e e faça uma sequência de Fibonacci de 10 posições\n",
    "\n",
    "n = int(input(\"Digite um número: \"))\n",
    "fibonacci = [0, 1]\n",
    "\n",
    "for i in range(2, n):\n",
    "    fibonacci.append(fibonacci[i-1] + fibonacci[i-2])\n",
    "\n",
    "print(fibonacci)\n"
   ]
  }
 ],
 "metadata": {
  "kernelspec": {
   "display_name": "Python 3",
   "language": "python",
   "name": "python3"
  },
  "language_info": {
   "codemirror_mode": {
    "name": "ipython",
    "version": 3
   },
   "file_extension": ".py",
   "mimetype": "text/x-python",
   "name": "python",
   "nbconvert_exporter": "python",
   "pygments_lexer": "ipython3",
   "version": "3.13.1"
  }
 },
 "nbformat": 4,
 "nbformat_minor": 2
}
